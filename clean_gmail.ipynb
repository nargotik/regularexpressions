{
  "nbformat": 4,
  "nbformat_minor": 0,
  "metadata": {
    "colab": {
      "provenance": [],
      "authorship_tag": "ABX9TyOKNXdAWsE9sKILjzPEMEOZ"
    },
    "kernelspec": {
      "name": "python3",
      "display_name": "Python 3"
    },
    "language_info": {
      "name": "python"
    }
  },
  "cells": [
    {
      "cell_type": "markdown",
      "source": [
        "Clean alias from gmail addresses\n",
        "\n",
        "\n",
        "```javascript\n",
        "const email = 'complet.eemail+alias@gmail.com';\n",
        "const re = /\\.+(?=.*@gmail\\.com)|\\+.*(?=.*@gmail\\.com)/mg;\n",
        "const newemail = email.replace(re, '');\n",
        "console.log(newemail);\n",
        "```\n",
        "\n"
      ],
      "metadata": {
        "id": "jARsW00O0DM-"
      }
    },
    {
      "cell_type": "code",
      "execution_count": 2,
      "metadata": {
        "colab": {
          "base_uri": "https://localhost:8080/"
        },
        "id": "46MAseCg0BoQ",
        "outputId": "fefee432-a523-4111-a9f4-0018ccaa8b01"
      },
      "outputs": [
        {
          "output_type": "stream",
          "name": "stdout",
          "text": [
            "completeemail@gmail.com\n",
            "completeemail@gmail.com\n",
            "completeemail@gmail.com\n",
            "completeemail@gmail.com\n",
            "completeemail@gmail.com\n",
            "completeemail@gmail.com\n",
            "completeemail@gmail.com\n",
            "completee.mail@hotmail.com\n"
          ]
        }
      ],
      "source": [
        "import re\n",
        "\n",
        "regex = r\"\\.+(?=.*@gmail\\.com)|\\+.*(?=.*@gmail\\.com)\"\n",
        "\n",
        "test_str = (\"co.mpl.eteemail@gmail.com\\n\"\n",
        "\t\"complet.eemail+alias@gmail.com\\n\"\n",
        "\t\"comp.leteem.ail@gmail.com\\n\"\n",
        "\t\"co.mpleteema.il@gmail.com\\n\"\n",
        "\t\"co.mplet.eemail@gmail.com\\n\"\n",
        "\t\"complet.eemail@gmail.com\\n\"\n",
        "\t\"co.mpleteemail@gmail.com\\n\"\n",
        "\t\"completee.mail@hotmail.com\")\n",
        "\n",
        "subst = \"\"\n",
        "\n",
        "result = re.sub(regex, subst, test_str, 0, re.MULTILINE)\n",
        "\n",
        "if result:\n",
        "    print (result)"
      ]
    }
  ]
}