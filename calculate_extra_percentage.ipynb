{
  "nbformat": 4,
  "nbformat_minor": 0,
  "metadata": {
    "colab": {
      "provenance": [],
      "authorship_tag": "ABX9TyMj9gQKt4EPeKm8d2ALd8oR"
    },
    "kernelspec": {
      "name": "python3",
      "display_name": "Python 3"
    },
    "language_info": {
      "name": "python"
    }
  },
  "cells": [
    {
      "cell_type": "markdown",
      "source": [
        "# Calculate extra percentage\n",
        "\n",
        "Calculate extra percentage to apply to one percentage\n",
        "\n",
        "Example:\n",
        "```\n",
        "Regular Price: 100\n",
        "Initial Percentage: 20%\n",
        "\n",
        "New Price: 80\n",
        "```\n",
        "Having the New price we want to know what percentage to apply to get 25% of Regular price, we cannot apply the diferential.\n",
        "```\n",
        "Final Percentage\n",
        "New Price = 80 * 6.249999999999998%\n",
        "New Price: 75\n",
        "```"
      ],
      "metadata": {
        "id": "MXwnKa4oZW57"
      }
    },
    {
      "cell_type": "code",
      "execution_count": null,
      "metadata": {
        "colab": {
          "base_uri": "https://localhost:8080/"
        },
        "id": "AjBFPAQjZEaR",
        "outputId": "7afeaad1-fb08-4f14-ba32-2c09aa07d2bb"
      },
      "outputs": [
        {
          "output_type": "stream",
          "name": "stdout",
          "text": [
            "Percentage of additional discount required: 6.249999999999998\n"
          ]
        }
      ],
      "source": [
        "def calculate_additional_discount(initial_percentage, final_percentage):\n",
        "    return (final_percentage - initial_percentage) / (1 - initial_percentage) * 100\n",
        "\n",
        "initial_percentage = 20\n",
        "final_percentage = 25\n",
        "\n",
        "additional_discount_percentage = calculate_additional_discount(initial_percentage/100, final_percentage/100)\n",
        "print(\"Percentage of additional discount required:\", additional_discount_percentage)"
      ]
    }
  ]
}